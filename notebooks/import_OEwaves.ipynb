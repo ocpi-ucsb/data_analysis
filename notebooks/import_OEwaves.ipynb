{
 "cells": [
  {
   "cell_type": "code",
   "execution_count": 1,
   "metadata": {},
   "outputs": [],
   "source": [
    "import pandas as pd\n",
    "import numpy as np\n",
    "\n",
    "import matplotlib.pyplot as plt\n",
    "%matplotlib notebook  "
   ]
  },
  {
   "cell_type": "code",
   "execution_count": 2,
   "metadata": {},
   "outputs": [],
   "source": [
    "base_path = '/Users/Andrei/Box/OCPI Shared/data/andrei/SLS_cavity/'\n",
    "filename = 'rock_SBScavitylock_phase_noise_test_012820.csv'"
   ]
  },
  {
   "cell_type": "code",
   "execution_count": 3,
   "metadata": {},
   "outputs": [
    {
     "data": {
      "text/html": [
       "<div>\n",
       "<style scoped>\n",
       "    .dataframe tbody tr th:only-of-type {\n",
       "        vertical-align: middle;\n",
       "    }\n",
       "\n",
       "    .dataframe tbody tr th {\n",
       "        vertical-align: top;\n",
       "    }\n",
       "\n",
       "    .dataframe thead th {\n",
       "        text-align: right;\n",
       "    }\n",
       "</style>\n",
       "<table border=\"1\" class=\"dataframe\">\n",
       "  <thead>\n",
       "    <tr style=\"text-align: right;\">\n",
       "      <th></th>\n",
       "      <th>freq</th>\n",
       "      <th>FN unlock(Hz/rtHz)</th>\n",
       "      <th>FN with locking(Hz/rtHz)</th>\n",
       "    </tr>\n",
       "  </thead>\n",
       "  <tbody>\n",
       "    <tr>\n",
       "      <td>0</td>\n",
       "      <td>1.000000e+00</td>\n",
       "      <td>1288.120212</td>\n",
       "      <td>619.461310</td>\n",
       "    </tr>\n",
       "    <tr>\n",
       "      <td>1</td>\n",
       "      <td>1.066667e+00</td>\n",
       "      <td>1332.049665</td>\n",
       "      <td>578.188578</td>\n",
       "    </tr>\n",
       "    <tr>\n",
       "      <td>2</td>\n",
       "      <td>1.133333e+00</td>\n",
       "      <td>1003.430006</td>\n",
       "      <td>416.677659</td>\n",
       "    </tr>\n",
       "    <tr>\n",
       "      <td>3</td>\n",
       "      <td>1.200000e+00</td>\n",
       "      <td>923.271612</td>\n",
       "      <td>433.913791</td>\n",
       "    </tr>\n",
       "    <tr>\n",
       "      <td>4</td>\n",
       "      <td>1.266667e+00</td>\n",
       "      <td>996.514463</td>\n",
       "      <td>328.473460</td>\n",
       "    </tr>\n",
       "    <tr>\n",
       "      <td>...</td>\n",
       "      <td>...</td>\n",
       "      <td>...</td>\n",
       "      <td>...</td>\n",
       "    </tr>\n",
       "    <tr>\n",
       "      <td>7038</td>\n",
       "      <td>9.986667e+07</td>\n",
       "      <td>2.164068</td>\n",
       "      <td>2.392548</td>\n",
       "    </tr>\n",
       "    <tr>\n",
       "      <td>7039</td>\n",
       "      <td>9.990000e+07</td>\n",
       "      <td>2.247941</td>\n",
       "      <td>2.180805</td>\n",
       "    </tr>\n",
       "    <tr>\n",
       "      <td>7040</td>\n",
       "      <td>9.993333e+07</td>\n",
       "      <td>2.245631</td>\n",
       "      <td>2.108045</td>\n",
       "    </tr>\n",
       "    <tr>\n",
       "      <td>7041</td>\n",
       "      <td>9.996667e+07</td>\n",
       "      <td>2.425016</td>\n",
       "      <td>2.281813</td>\n",
       "    </tr>\n",
       "    <tr>\n",
       "      <td>7042</td>\n",
       "      <td>1.000000e+08</td>\n",
       "      <td>2.370829</td>\n",
       "      <td>2.234445</td>\n",
       "    </tr>\n",
       "  </tbody>\n",
       "</table>\n",
       "<p>7043 rows × 3 columns</p>\n",
       "</div>"
      ],
      "text/plain": [
       "              freq  FN unlock(Hz/rtHz)  FN with locking(Hz/rtHz)\n",
       "0     1.000000e+00         1288.120212                619.461310\n",
       "1     1.066667e+00         1332.049665                578.188578\n",
       "2     1.133333e+00         1003.430006                416.677659\n",
       "3     1.200000e+00          923.271612                433.913791\n",
       "4     1.266667e+00          996.514463                328.473460\n",
       "...            ...                 ...                       ...\n",
       "7038  9.986667e+07            2.164068                  2.392548\n",
       "7039  9.990000e+07            2.247941                  2.180805\n",
       "7040  9.993333e+07            2.245631                  2.108045\n",
       "7041  9.996667e+07            2.425016                  2.281813\n",
       "7042  1.000000e+08            2.370829                  2.234445\n",
       "\n",
       "[7043 rows x 3 columns]"
      ]
     },
     "execution_count": 3,
     "metadata": {},
     "output_type": "execute_result"
    }
   ],
   "source": [
    "data = pd.read_csv(base_path + filename)\n",
    "data"
   ]
  },
  {
   "cell_type": "code",
   "execution_count": 4,
   "metadata": {},
   "outputs": [
    {
     "data": {
      "image/png": "[encoded data removed]",
      "text/plain": [
       "<Figure size 432x288 with 1 Axes>"
      ]
     },
     "metadata": {
      "needs_background": "light"
     },
     "output_type": "display_data"
    }
   ],
   "source": [
    "plt.figure()\n",
    "plt.loglog(data['freq'],data['FN unlock(Hz/rtHz)'],label = 'Unlocked')\n",
    "plt.loglog(data['freq'],data['FN with locking(Hz/rtHz)'],label = 'Locked')\n",
    "plt.xlabel('Frequency [Hz]')\n",
    "plt.ylabel('S$_f$ [Hz/$\\sqrt{Hz}$]')\n",
    "plt.title('Rock laser at 1550: 71 mW ACC')\n",
    "plt.legend()\n",
    "#plt.grid(b=True, which='major', color='gray', linestyle='--')\n",
    "plt.show()"
   ]
  },
  {
   "cell_type": "code",
   "execution_count": null,
   "metadata": {},
   "outputs": [],
   "source": []
  }
 ],
 "metadata": {
  "kernelspec": {
   "display_name": "Python 3",
   "language": "python",
   "name": "python3"
  },
  "language_info": {
   "codemirror_mode": {
    "name": "ipython",
    "version": 3
   },
   "file_extension": ".py",
   "mimetype": "text/x-python",
   "name": "python",
   "nbconvert_exporter": "python",
   "pygments_lexer": "ipython3",
   "version": "3.7.4"
  }
 },
 "nbformat": 4,
 "nbformat_minor": 4
}
