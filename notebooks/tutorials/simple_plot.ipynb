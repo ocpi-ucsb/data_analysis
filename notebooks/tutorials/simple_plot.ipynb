{
 "cells": [
  {
   "cell_type": "markdown",
   "metadata": {},
   "source": [
    "# Simple plotter template\n",
    "\n",
    "Welcome to the simple plotter template! This notebook shows how to import measurement data, work with the data, and plot it nicely.\n",
    "\n",
    "First, we import the relevant packages.\n",
    "\n",
    "``numpy`` allows us to do powerful math\n",
    "\n",
    "``scipy`` allows us to do optimization, most commonly fitting\n",
    "\n",
    "``matplotlib`` lets us plot graphs in a way that resembles matlab convention\n",
    "\n",
    "``pandas`` allows us to work with data easily, **including importing data**"
   ]
  },
  {
   "cell_type": "code",
   "execution_count": 14,
   "metadata": {},
   "outputs": [],
   "source": [
    "import numpy as np\n",
    "import scipy as sp\n",
    "import matplotlib.pyplot as plt\n",
    "%matplotlib inline\n",
    "import pandas as pd"
   ]
  },
  {
   "cell_type": "markdown",
   "metadata": {},
   "source": [
    "### First, we specify the path where the data is\n",
    "\n",
    "Make a ``base_path`` string variable that points to the directory where your data files are. Hopefully they are in the box, under ocpi/data! Please put them there if they are not, so other people can analyze the measurement data if they need to."
   ]
  },
  {
   "cell_type": "code",
   "execution_count": null,
   "metadata": {},
   "outputs": [],
   "source": [
    "base_path = '/Users/Andrei/Box/ocpi/data/qiancheng/'\n",
    "filename = 'd_1.csv'"
   ]
  },
  {
   "cell_type": "markdown",
   "metadata": {},
   "source": [
    "### Next, import the data into a ``pandas`` data frame\n",
    "\n",
    "In the ``header`` specification, you say how many header lines there are."
   ]
  },
  {
   "cell_type": "code",
   "execution_count": 19,
   "metadata": {},
   "outputs": [
    {
     "data": {
      "text/html": [
       "<div>\n",
       "<style scoped>\n",
       "    .dataframe tbody tr th:only-of-type {\n",
       "        vertical-align: middle;\n",
       "    }\n",
       "\n",
       "    .dataframe tbody tr th {\n",
       "        vertical-align: top;\n",
       "    }\n",
       "\n",
       "    .dataframe thead th {\n",
       "        text-align: right;\n",
       "    }\n",
       "</style>\n",
       "<table border=\"1\" class=\"dataframe\">\n",
       "  <thead>\n",
       "    <tr style=\"text-align: right;\">\n",
       "      <th></th>\n",
       "      <th>second</th>\n",
       "      <th>Volt</th>\n",
       "      <th>Volt.1</th>\n",
       "      <th>Volt.2</th>\n",
       "    </tr>\n",
       "  </thead>\n",
       "  <tbody>\n",
       "    <tr>\n",
       "      <td>0</td>\n",
       "      <td>0.001651</td>\n",
       "      <td>4.801193</td>\n",
       "      <td>0.453518</td>\n",
       "      <td>5.000942</td>\n",
       "    </tr>\n",
       "    <tr>\n",
       "      <td>1</td>\n",
       "      <td>0.001651</td>\n",
       "      <td>4.801193</td>\n",
       "      <td>0.292714</td>\n",
       "      <td>5.000942</td>\n",
       "    </tr>\n",
       "    <tr>\n",
       "      <td>2</td>\n",
       "      <td>0.001651</td>\n",
       "      <td>4.901696</td>\n",
       "      <td>0.131910</td>\n",
       "      <td>5.021043</td>\n",
       "    </tr>\n",
       "    <tr>\n",
       "      <td>3</td>\n",
       "      <td>0.001651</td>\n",
       "      <td>4.901696</td>\n",
       "      <td>0.131910</td>\n",
       "      <td>5.000942</td>\n",
       "    </tr>\n",
       "    <tr>\n",
       "      <td>4</td>\n",
       "      <td>0.001651</td>\n",
       "      <td>4.901696</td>\n",
       "      <td>0.212312</td>\n",
       "      <td>5.000942</td>\n",
       "    </tr>\n",
       "    <tr>\n",
       "      <td>...</td>\n",
       "      <td>...</td>\n",
       "      <td>...</td>\n",
       "      <td>...</td>\n",
       "      <td>...</td>\n",
       "    </tr>\n",
       "    <tr>\n",
       "      <td>49983</td>\n",
       "      <td>0.001851</td>\n",
       "      <td>4.901696</td>\n",
       "      <td>4.433417</td>\n",
       "      <td>5.041143</td>\n",
       "    </tr>\n",
       "    <tr>\n",
       "      <td>49984</td>\n",
       "      <td>0.001851</td>\n",
       "      <td>5.102701</td>\n",
       "      <td>4.433417</td>\n",
       "      <td>5.041143</td>\n",
       "    </tr>\n",
       "    <tr>\n",
       "      <td>49985</td>\n",
       "      <td>0.001851</td>\n",
       "      <td>5.002198</td>\n",
       "      <td>4.433417</td>\n",
       "      <td>5.000942</td>\n",
       "    </tr>\n",
       "    <tr>\n",
       "      <td>49986</td>\n",
       "      <td>0.001851</td>\n",
       "      <td>4.901696</td>\n",
       "      <td>4.433417</td>\n",
       "      <td>5.021043</td>\n",
       "    </tr>\n",
       "    <tr>\n",
       "      <td>49987</td>\n",
       "      <td>0.001851</td>\n",
       "      <td>5.002198</td>\n",
       "      <td>4.473618</td>\n",
       "      <td>5.021043</td>\n",
       "    </tr>\n",
       "  </tbody>\n",
       "</table>\n",
       "<p>49988 rows × 4 columns</p>\n",
       "</div>"
      ],
      "text/plain": [
       "         second      Volt    Volt.1    Volt.2\n",
       "0      0.001651  4.801193  0.453518  5.000942\n",
       "1      0.001651  4.801193  0.292714  5.000942\n",
       "2      0.001651  4.901696  0.131910  5.021043\n",
       "3      0.001651  4.901696  0.131910  5.000942\n",
       "4      0.001651  4.901696  0.212312  5.000942\n",
       "...         ...       ...       ...       ...\n",
       "49983  0.001851  4.901696  4.433417  5.041143\n",
       "49984  0.001851  5.102701  4.433417  5.041143\n",
       "49985  0.001851  5.002198  4.433417  5.000942\n",
       "49986  0.001851  4.901696  4.433417  5.021043\n",
       "49987  0.001851  5.002198  4.473618  5.021043\n",
       "\n",
       "[49988 rows x 4 columns]"
      ]
     },
     "execution_count": 19,
     "metadata": {},
     "output_type": "execute_result"
    }
   ],
   "source": [
    "data = pd.read_csv(base_path + filename, header=1)\n",
    "data # print to see a nice table of your data"
   ]
  },
  {
   "cell_type": "markdown",
   "metadata": {},
   "source": [
    "### Next, use the pandas dataframe ``data`` to assign different columns to vectors"
   ]
  },
  {
   "cell_type": "code",
   "execution_count": 21,
   "metadata": {},
   "outputs": [],
   "source": [
    "t = data['second']\n",
    "trigger = data['Volt']\n",
    "mzi = data['Volt.1']\n",
    "v = data['Volt.2']"
   ]
  },
  {
   "cell_type": "markdown",
   "metadata": {},
   "source": [
    "### Finally, let's plot! Use ``plt`` from above to call plotting functions using a style similar to matlab"
   ]
  },
  {
   "cell_type": "code",
   "execution_count": 22,
   "metadata": {},
   "outputs": [
    {
     "data": {
      "image/png": "[encoded data removed]",
      "text/plain": [
       "<Figure size 432x288 with 1 Axes>"
      ]
     },
     "metadata": {
      "needs_background": "light"
     },
     "output_type": "display_data"
    }
   ],
   "source": [
    "plt.figure()\n",
    "plt.plot(v, linewidth = 2, label = 'signal')\n",
    "plt.show()"
   ]
  },
  {
   "cell_type": "code",
   "execution_count": 23,
   "metadata": {},
   "outputs": [],
   "source": [
    "#TODO: how to make simple fits"
   ]
  },
  {
   "cell_type": "code",
   "execution_count": null,
   "metadata": {},
   "outputs": [],
   "source": []
  }
 ],
 "metadata": {
  "kernelspec": {
   "display_name": "Python 3",
   "language": "python",
   "name": "python3"
  },
  "language_info": {
   "codemirror_mode": {
    "name": "ipython",
    "version": 3
   },
   "file_extension": ".py",
   "mimetype": "text/x-python",
   "name": "python",
   "nbconvert_exporter": "python",
   "pygments_lexer": "ipython3",
   "version": "3.7.4"
  }
 },
 "nbformat": 4,
 "nbformat_minor": 4
}
