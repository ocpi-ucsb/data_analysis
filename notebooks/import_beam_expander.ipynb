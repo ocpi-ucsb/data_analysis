{
 "cells": [
  {
   "cell_type": "code",
   "execution_count": 5,
   "metadata": {},
   "outputs": [
    {
     "name": "stdout",
     "output_type": "stream",
     "text": [
      "The autoreload extension is already loaded. To reload it, use:\n",
      "  %reload_ext autoreload\n"
     ]
    }
   ],
   "source": [
    "import pandas as pd\n",
    "import numpy as np\n",
    "import scipy\n",
    "import matplotlib.pyplot as plt\n",
    "import matplotlib.cm as cm\n",
    "from matplotlib.colors import LogNorm\n",
    "%matplotlib notebook \n",
    "%matplotlib inline\n",
    "\n",
    "# These two lines allow for the notebook to automatically update to use the most\n",
    "# up-to-date versions of the code being imported\n",
    "%load_ext autoreload\n",
    "%autoreload 2\n",
    "\n",
    "import sys\n",
    "sys.path.append('/Users/Andrei/Documents/code')\n",
    "\n",
    "from data_analysis.src.basic_functions.fwhm import FWHM, FWHMe2"
   ]
  },
  {
   "cell_type": "code",
   "execution_count": null,
   "metadata": {},
   "outputs": [],
   "source": [
    "sys.path"
   ]
  },
  {
   "cell_type": "code",
   "execution_count": null,
   "metadata": {},
   "outputs": [],
   "source": [
    "base_path = '/Users/Andrei/Box/ocpi/data/nitesh/lumerical_files/Data/'\n",
    "filename = '461nmExpander20nmCore.txt'"
   ]
  },
  {
   "cell_type": "code",
   "execution_count": null,
   "metadata": {},
   "outputs": [],
   "source": [
    "data = pd.read_csv(base_path + filename, sep=\" \", header=1,nrows=1)\n",
    "numX = int(data.columns.values[0][5:-3])\n",
    "x_DF = pd.read_csv(base_path + filename, sep=\" \", header=1,nrows=numX)\n",
    "data = pd.read_csv(base_path + filename, sep=\" \", header=numX+2,nrows=1)\n",
    "numY = int(data.columns.values[0][5:-3])\n",
    "y_DF = pd.read_csv(base_path + filename, sep=\" \", header=numX+2,nrows=numY)\n",
    "optical_power_DF = pd.read_csv(base_path + filename, sep=\" \", header=numX+2 + numY + 1)"
   ]
  },
  {
   "cell_type": "code",
   "execution_count": null,
   "metadata": {},
   "outputs": [],
   "source": [
    "optical_power_DF = pd.read_csv(base_path + filename, sep=\" \", header = None, skiprows = numX + 2 + numY +5)\n",
    "del optical_power_DF[0]\n",
    "optical_power_DF"
   ]
  },
  {
   "cell_type": "code",
   "execution_count": null,
   "metadata": {},
   "outputs": [],
   "source": [
    "out_field = optical_power_DF.to_numpy()\n",
    "Xarray = x_DF.to_numpy()\n",
    "Yarray = y_DF.to_numpy()\n",
    "X,Y = np.meshgrid(Xarray,Yarray)\n",
    "out_field = np.transpose(out_field)\n",
    "#out_field.reshape(len(Xarray),len(Yarray))\n",
    "# Plot the density map using nearest-neighbor interpolation\n",
    "plt.pcolormesh(X,Y,out_field)\n",
    "plt.show()    "
   ]
  },
  {
   "cell_type": "code",
   "execution_count": null,
   "metadata": {},
   "outputs": [],
   "source": [
    "plt.plot(Yarray,out_field[:,6000])\n",
    "plt.show()\n",
    "temp = FWHMe2(Yarray,out_field[:,6000])\n",
    "temp"
   ]
  },
  {
   "cell_type": "code",
   "execution_count": null,
   "metadata": {},
   "outputs": [],
   "source": [
    "widths = []\n",
    "for ind in range(numX):\n",
    "    widths.append(FWHMe2(Yarray,out_field[:,ind]))\n",
    "\n",
    "widths = np.asarray(widths)\n",
    "plt.plot(Xarray,widths)"
   ]
  },
  {
   "cell_type": "code",
   "execution_count": null,
   "metadata": {},
   "outputs": [],
   "source": []
  }
 ],
 "metadata": {
  "kernelspec": {
   "display_name": "Python 3",
   "language": "python",
   "name": "python3"
  },
  "language_info": {
   "codemirror_mode": {
    "name": "ipython",
    "version": 3
   },
   "file_extension": ".py",
   "mimetype": "text/x-python",
   "name": "python",
   "nbconvert_exporter": "python",
   "pygments_lexer": "ipython3",
   "version": "3.7.4"
  }
 },
 "nbformat": 4,
 "nbformat_minor": 4
}
