{
 "cells": [
  {
   "cell_type": "code",
   "execution_count": 12,
   "metadata": {},
   "outputs": [],
   "source": [
    "from boxsdk import OAuth2, Client\n",
    "\n",
    "# From Andrei's UCSB box developer account:\n",
    "\n",
    "oauth = OAuth2(\n",
    "client_id='uvejdltd9dqrdril6fle37g2h9zra0i3',\n",
    "client_secret='Lad1VQea0JwGqTowMqpTqTAMAMBtY0xX',\n",
    "store_tokens='RRZ2IYsDhZebywmnoiwTcLtJPyLNGJvN',\n",
    "access_token='RRZ2IYsDhZebywmnoiwTcLtJPyLNGJvN',\n",
    "refresh_token='RRZ2IYsDhZebywmnoiwTcLtJPyLNGJvN',\n",
    ")\n",
    "\n",
    "# note that these tokens may expire... \n",
    "client = Client(oauth)"
   ]
  },
  {
   "cell_type": "code",
   "execution_count": 15,
   "metadata": {},
   "outputs": [],
   "source": [
    "# can make some map for folder name to the fol\n",
    "\n",
    "folder = client.folder(folder_id='100018574369')\n",
    "# drawback is need to know the folder IDs"
   ]
  },
  {
   "cell_type": "code",
   "execution_count": 16,
   "metadata": {},
   "outputs": [
    {
     "name": "stdout",
     "output_type": "stream",
     "text": [
      "\u001b[36mPOST https://upload.box.com/api/2.0/files/content {'data': <MultipartEncoder: OrderedDict([('attributes', '{\"name\": \"test_data_set_3.csv\", \"parent\": {\"id\": \"100018574369\"}, \"description\": null}'), ('file', ('unused', <_io.BufferedReader name='test_data_set_3.csv'>))])>,\n",
      " 'headers': {'Authorization': '---GJvN',\n",
      "             'Content-Type': 'multipart/form-data; '\n",
      "                             'boundary=306a577a5b884432b83977fc17ab9d7e',\n",
      "             'User-Agent': 'box-python-sdk-2.6.1',\n",
      "             'X-Box-UA': 'agent=box-python-sdk/2.6.1; env=python/3.7.4'}}\u001b[0m\n",
      "\u001b[32m\"POST https://upload.box.com/api/2.0/files/content\" 201 1335\n",
      "{'Date': 'Fri, 14 Feb 2020 02:55:49 GMT', 'Content-Type': 'application/json', 'Content-Length': '1335', 'Connection': 'keep-alive', 'X-Powered-By': 'PHP/7.1.33', 'Strict-Transport-Security': 'max-age=31536000', 'Cache-Control': 'no-cache, no-store'}\n",
      "{'entries': [{'content_created_at': '2020-02-13T18:55:49-08:00',\n",
      "              'content_modified_at': '2020-02-13T18:55:49-08:00',\n",
      "              'created_at': '2020-02-13T18:55:49-08:00',\n",
      "              'created_by': {'id': '8231727445',\n",
      "                             'login': 'aisichenko@ucsb.edu',\n",
      "                             'name': 'Andrei Isichenko',\n",
      "                             'type': 'user'},\n",
      "              'description': '',\n",
      "              'etag': '0',\n",
      "              'file_version': {'id': '653564640420',\n",
      "                               'sha1': 'b97cab7dee2e99af190dcdb2aac379bcbae214d8',\n",
      "                               'type': 'file_version'},\n",
      "              'id': '616500413220',\n",
      "              'item_status': 'active',\n",
      "              'modified_at': '2020-02-13T18:55:49-08:00',\n",
      "              'modified_by': {'id': '8231727445',\n",
      "                              'login': 'aisichenko@ucsb.edu',\n",
      "                              'name': 'Andrei Isichenko',\n",
      "                              'type': 'user'},\n",
      "              'name': 'test_data_set_3.csv',\n",
      "              'owned_by': {'id': '364215500',\n",
      "                           'login': 'gbrodnik@ucsb.edu',\n",
      "                           'name': 'Grant Brodnik',\n",
      "                           'type': 'user'},\n",
      "              'parent': {'etag': '0',\n",
      "                         'id': '100018574369',\n",
      "                         'name': 'andrei',\n",
      "                         'sequence_id': '0',\n",
      "                         'type': 'folder'},\n",
      "              'path_collection': {'entries': [{'etag': None,\n",
      "                                               'id': '0',\n",
      "                                               'name': 'All Files',\n",
      "                                               'sequence_id': None,\n",
      "                                               'type': 'folder'},\n",
      "                                              {'etag': '2',\n",
      "                                               'id': '44595382402',\n",
      "                                               'name': 'ocpi',\n",
      "                                               'sequence_id': '2',\n",
      "                                               'type': 'folder'},\n",
      "                                              {'etag': '0',\n",
      "                                               'id': '98227395310',\n",
      "                                               'name': 'data',\n",
      "                                               'sequence_id': '0',\n",
      "                                               'type': 'folder'},\n",
      "                                              {'etag': '0',\n",
      "                                               'id': '100018574369',\n",
      "                                               'name': 'andrei',\n",
      "                                               'sequence_id': '0',\n",
      "                                               'type': 'folder'}],\n",
      "                                  'total_count': 4},\n",
      "              'purged_at': None,\n",
      "              'sequence_id': '0',\n",
      "              'sha1': 'b97cab7dee2e99af190dcdb2aac379bcbae214d8',\n",
      "              'shared_link': None,\n",
      "              'size': 6123483,\n",
      "              'trashed_at': None,\n",
      "              'type': 'file'}],\n",
      " 'total_count': 1}\n",
      "\u001b[0m\n"
     ]
    },
    {
     "data": {
      "text/plain": [
       "<Box File - 616500413220 (test_data_set_3.csv)>"
      ]
     },
     "execution_count": 16,
     "metadata": {},
     "output_type": "execute_result"
    }
   ],
   "source": [
    "folder.upload('test_data_set_3.csv')"
   ]
  },
  {
   "cell_type": "code",
   "execution_count": null,
   "metadata": {},
   "outputs": [],
   "source": []
  }
 ],
 "metadata": {
  "kernelspec": {
   "display_name": "Python 3",
   "language": "python",
   "name": "python3"
  },
  "language_info": {
   "codemirror_mode": {
    "name": "ipython",
    "version": 3
   },
   "file_extension": ".py",
   "mimetype": "text/x-python",
   "name": "python",
   "nbconvert_exporter": "python",
   "pygments_lexer": "ipython3",
   "version": "3.7.4"
  }
 },
 "nbformat": 4,
 "nbformat_minor": 4
}
