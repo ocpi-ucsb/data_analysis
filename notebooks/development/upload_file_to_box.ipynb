{
 "cells": [
  {
   "cell_type": "code",
   "execution_count": null,
   "metadata": {},
   "outputs": [],
   "source": [
    "from boxsdk import OAuth2, Client\n",
    "\n",
    "# From Andrei's UCSB box developer account:\n",
    "\n",
    "oauth = OAuth2(\n",
    "client_id='',\n",
    "client_secret='',\n",
    "store_tokens='',\n",
    "access_token='',\n",
    "refresh_token='',\n",
    ")\n",
    "\n",
    "# note that these tokens may expire... \n",
    "client = Client(oauth)"
   ]
  },
  {
   "cell_type": "code",
   "execution_count": null,
   "metadata": {},
   "outputs": [],
   "source": [
    "# can make some map for folder name to the fol\n",
    "\n",
    "folder = client.folder(folder_id='100018574369')\n",
    "# drawback is need to know the folder IDs"
   ]
  },
  {
   "cell_type": "code",
   "execution_count": null,
   "metadata": {},
   "outputs": [],
   "source": [
    "folder.upload('test_data_set_3.csv')"
   ]
  },
  {
   "cell_type": "code",
   "execution_count": null,
   "metadata": {},
   "outputs": [],
   "source": []
  }
 ],
 "metadata": {
  "kernelspec": {
   "display_name": "Python 3",
   "language": "python",
   "name": "python3"
  },
  "language_info": {
   "codemirror_mode": {
    "name": "ipython",
    "version": 3
   },
   "file_extension": ".py",
   "mimetype": "text/x-python",
   "name": "python",
   "nbconvert_exporter": "python",
   "pygments_lexer": "ipython3",
   "version": "3.7.4"
  }
 },
 "nbformat": 4,
 "nbformat_minor": 4
}
