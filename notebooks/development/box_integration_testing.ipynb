{
 "cells": [
  {
   "cell_type": "markdown",
   "metadata": {},
   "source": [
    "To use this, run `pip install boxsdk` "
   ]
  },
  {
   "cell_type": "code",
   "execution_count": null,
   "metadata": {},
   "outputs": [],
   "source": [
    "# Import two classes from the boxsdk module - Client and OAuth2\n",
    "from boxsdk import Client, OAuth2"
   ]
  },
  {
   "cell_type": "code",
   "execution_count": null,
   "metadata": {},
   "outputs": [],
   "source": [
    "# Define client ID, client secret, and developer token.\n",
    "CLIENT_ID = None\n",
    "CLIENT_SECRET = None\n",
    "ACCESS_TOKEN = None\n",
    "\n",
    "# Read app info from text file\n",
    "with open('app.cfg', 'r') as app_cfg:\n",
    "    CLIENT_ID = app_cfg.readline()\n",
    "    CLIENT_SECRET = app_cfg.readline()\n",
    "    ACCESS_TOKEN = app_cfg.readline()"
   ]
  },
  {
   "cell_type": "code",
   "execution_count": 35,
   "metadata": {},
   "outputs": [
    {
     "data": {
      "text/plain": [
       "'uvejdltd9dqrdril6fle37g2h9zra0i3\\n'"
      ]
     },
     "execution_count": 35,
     "metadata": {},
     "output_type": "execute_result"
    }
   ],
   "source": [
    "CLIENT_ID"
   ]
  },
  {
   "cell_type": "code",
   "execution_count": null,
   "metadata": {},
   "outputs": [],
   "source": [
    "from boxsdk.network.default_network import DefaultNetwork\n",
    "from pprint import pformat\n",
    "\n",
    "class LoggingNetwork(DefaultNetwork):\n",
    "    def request(self, method, url, access_token, **kwargs):\n",
    "        \"\"\" Base class override. Pretty-prints outgoing requests and incoming responses. \"\"\"\n",
    "        print('\\x1b[36m{} {} {}\\x1b[0m'.format(method, url, pformat(kwargs)))\n",
    "        response = super(LoggingNetwork, self).request(\n",
    "            method, url, access_token, **kwargs\n",
    "        )\n",
    "        if response.ok:\n",
    "            print('\\x1b[32m{}\\x1b[0m'.format(response.content))\n",
    "        else:\n",
    "            print('\\x1b[31m{}\\n{}\\n{}\\x1b[0m'.format(\n",
    "                response.status_code,\n",
    "                response.headers,\n",
    "                pformat(response.content),\n",
    "            ))\n",
    "        return response"
   ]
  },
  {
   "cell_type": "code",
   "execution_count": null,
   "metadata": {},
   "outputs": [],
   "source": [
    "# Create OAuth2 object. It's already authenticated, thanks to the developer token.\n",
    "oauth2 = OAuth2(CLIENT_ID, CLIENT_SECRET, access_token=ACCESS_TOKEN)\n",
    "\n",
    "# Create the authenticated client\n",
    "client = Client(oauth2, LoggingNetwork())"
   ]
  },
  {
   "cell_type": "code",
   "execution_count": null,
   "metadata": {},
   "outputs": [],
   "source": [
    "ACCESS_TOKEN"
   ]
  },
  {
   "cell_type": "code",
   "execution_count": null,
   "metadata": {},
   "outputs": [],
   "source": [
    "from boxsdk import DevelopmentClient\n",
    "client = DevelopmentClient()"
   ]
  },
  {
   "cell_type": "code",
   "execution_count": 34,
   "metadata": {},
   "outputs": [
    {
     "name": "stdout",
     "output_type": "stream",
     "text": [
      "\u001b[36mGET https://api.box.com/2.0/users/me {'headers': {'Authorization': '---leme',\n",
      "             'User-Agent': 'box-python-sdk-2.6.1',\n",
      "             'X-Box-UA': 'agent=box-python-sdk/2.6.1; env=python/3.7.4'},\n",
      " 'params': None}\u001b[0m\n",
      "\u001b[32m\"GET https://api.box.com/2.0/users/me\" 200 447\n",
      "{'Date': 'Fri, 14 Feb 2020 02:45:05 GMT', 'Content-Type': 'application/json', 'Transfer-Encoding': 'chunked', 'Connection': 'keep-alive', 'Strict-Transport-Security': 'max-age=31536000', 'Cache-Control': 'no-cache, no-store', 'Content-Encoding': 'gzip', 'Vary': 'Accept-Encoding', 'BOX-REQUEST-ID': '096b408e0feefbbb03dde83c82b4168d6'}\n",
      "{'address': '',\n",
      " 'avatar_url': 'https://ucsb.app.box.com/api/avatar/large/8231727445',\n",
      " 'created_at': '2019-05-10T09:36:04-07:00',\n",
      " 'id': '8231727445',\n",
      " 'job_title': '',\n",
      " 'language': 'en',\n",
      " 'login': 'aisichenko@ucsb.edu',\n",
      " 'max_upload_size': 16106127360,\n",
      " 'modified_at': '2020-02-13T18:31:16-08:00',\n",
      " 'name': 'Andrei Isichenko',\n",
      " 'notification_email': [],\n",
      " 'phone': '',\n",
      " 'space_amount': 1000000000000000.0,\n",
      " 'space_used': 541,\n",
      " 'status': 'active',\n",
      " 'timezone': 'America/Los_Angeles',\n",
      " 'type': 'user'}\n",
      "\u001b[0m\n",
      "The current user ID is 8231727445\n"
     ]
    }
   ],
   "source": [
    "user = client.user().get();\n",
    "print('The current user ID is {0}'.format(user.id))"
   ]
  },
  {
   "cell_type": "code",
   "execution_count": 33,
   "metadata": {},
   "outputs": [
    {
     "name": "stdout",
     "output_type": "stream",
     "text": [
      "\u001b[36mPOST https://upload.box.com/api/2.0/files/content {'data': <MultipartEncoder: OrderedDict([('attributes', '{\"name\": \"test_data_set_2.csv\", \"parent\": {\"id\": \"100018574369\"}, \"description\": null}'), ('file', ('unused', <_io.BufferedReader name='test_data_set_2.csv'>))])>,\n",
      " 'headers': {'Authorization': '---leme',\n",
      "             'Content-Type': 'multipart/form-data; '\n",
      "                             'boundary=e67f4352deb4491a822c4209af3d861e',\n",
      "             'User-Agent': 'box-python-sdk-2.6.1',\n",
      "             'X-Box-UA': 'agent=box-python-sdk/2.6.1; env=python/3.7.4'}}\u001b[0m\n",
      "\u001b[32m\"POST https://upload.box.com/api/2.0/files/content\" 201 1335\n",
      "{'Date': 'Fri, 14 Feb 2020 02:42:27 GMT', 'Content-Type': 'application/json', 'Content-Length': '1335', 'Connection': 'keep-alive', 'X-Powered-By': 'PHP/7.1.33', 'Strict-Transport-Security': 'max-age=31536000', 'Cache-Control': 'no-cache, no-store', 'X-Envoy-Upstream-Service-Time': '808'}\n",
      "{'entries': [{'content_created_at': '2020-02-13T18:42:27-08:00',\n",
      "              'content_modified_at': '2020-02-13T18:42:27-08:00',\n",
      "              'created_at': '2020-02-13T18:42:27-08:00',\n",
      "              'created_by': {'id': '8231727445',\n",
      "                             'login': 'aisichenko@ucsb.edu',\n",
      "                             'name': 'Andrei Isichenko',\n",
      "                             'type': 'user'},\n",
      "              'description': '',\n",
      "              'etag': '0',\n",
      "              'file_version': {'id': '653558095243',\n",
      "                               'sha1': 'b97cab7dee2e99af190dcdb2aac379bcbae214d8',\n",
      "                               'type': 'file_version'},\n",
      "              'id': '616494249643',\n",
      "              'item_status': 'active',\n",
      "              'modified_at': '2020-02-13T18:42:27-08:00',\n",
      "              'modified_by': {'id': '8231727445',\n",
      "                              'login': 'aisichenko@ucsb.edu',\n",
      "                              'name': 'Andrei Isichenko',\n",
      "                              'type': 'user'},\n",
      "              'name': 'test_data_set_2.csv',\n",
      "              'owned_by': {'id': '364215500',\n",
      "                           'login': 'gbrodnik@ucsb.edu',\n",
      "                           'name': 'Grant Brodnik',\n",
      "                           'type': 'user'},\n",
      "              'parent': {'etag': '0',\n",
      "                         'id': '100018574369',\n",
      "                         'name': 'andrei',\n",
      "                         'sequence_id': '0',\n",
      "                         'type': 'folder'},\n",
      "              'path_collection': {'entries': [{'etag': None,\n",
      "                                               'id': '0',\n",
      "                                               'name': 'All Files',\n",
      "                                               'sequence_id': None,\n",
      "                                               'type': 'folder'},\n",
      "                                              {'etag': '2',\n",
      "                                               'id': '44595382402',\n",
      "                                               'name': 'ocpi',\n",
      "                                               'sequence_id': '2',\n",
      "                                               'type': 'folder'},\n",
      "                                              {'etag': '0',\n",
      "                                               'id': '98227395310',\n",
      "                                               'name': 'data',\n",
      "                                               'sequence_id': '0',\n",
      "                                               'type': 'folder'},\n",
      "                                              {'etag': '0',\n",
      "                                               'id': '100018574369',\n",
      "                                               'name': 'andrei',\n",
      "                                               'sequence_id': '0',\n",
      "                                               'type': 'folder'}],\n",
      "                                  'total_count': 4},\n",
      "              'purged_at': None,\n",
      "              'sequence_id': '0',\n",
      "              'sha1': 'b97cab7dee2e99af190dcdb2aac379bcbae214d8',\n",
      "              'shared_link': None,\n",
      "              'size': 6123483,\n",
      "              'trashed_at': None,\n",
      "              'type': 'file'}],\n",
      " 'total_count': 1}\n",
      "\u001b[0m\n"
     ]
    }
   ],
   "source": []
  },
  {
   "cell_type": "code",
   "execution_count": 29,
   "metadata": {},
   "outputs": [],
   "source": [
    "#upload to URL directly, not working\n",
    "import requests\n",
    "with open('test_data_set_2.csv', 'rb') as f:\n",
    "    r = requests.post('https://ucsb.app.box.com/folder/98227395310', files={'test_data_set_2.csv': f})"
   ]
  }
 ],
 "metadata": {
  "kernelspec": {
   "display_name": "Python 3",
   "language": "python",
   "name": "python3"
  },
  "language_info": {
   "codemirror_mode": {
    "name": "ipython",
    "version": 3
   },
   "file_extension": ".py",
   "mimetype": "text/x-python",
   "name": "python",
   "nbconvert_exporter": "python",
   "pygments_lexer": "ipython3",
   "version": "3.7.4"
  }
 },
 "nbformat": 4,
 "nbformat_minor": 4
}
