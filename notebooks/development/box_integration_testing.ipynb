{
 "cells": [
  {
   "cell_type": "markdown",
   "metadata": {},
   "source": [
    "To use this, run `pip install boxsdk` "
   ]
  },
  {
   "cell_type": "code",
   "execution_count": null,
   "metadata": {},
   "outputs": [],
   "source": [
    "# Import two classes from the boxsdk module - Client and OAuth2\n",
    "from boxsdk import Client, OAuth2"
   ]
  },
  {
   "cell_type": "code",
   "execution_count": null,
   "metadata": {},
   "outputs": [],
   "source": [
    "# Define client ID, client secret, and developer token.\n",
    "CLIENT_ID = None\n",
    "CLIENT_SECRET = None\n",
    "ACCESS_TOKEN = None\n",
    "\n",
    "# Read app info from text file\n",
    "with open('app.cfg', 'r') as app_cfg:\n",
    "    CLIENT_ID = app_cfg.readline()\n",
    "    CLIENT_SECRET = app_cfg.readline()\n",
    "    ACCESS_TOKEN = app_cfg.readline()"
   ]
  },
  {
   "cell_type": "code",
   "execution_count": null,
   "metadata": {},
   "outputs": [],
   "source": [
    "CLIENT_ID"
   ]
  },
  {
   "cell_type": "code",
   "execution_count": null,
   "metadata": {},
   "outputs": [],
   "source": [
    "from boxsdk.network.default_network import DefaultNetwork\n",
    "from pprint import pformat\n",
    "\n",
    "class LoggingNetwork(DefaultNetwork):\n",
    "    def request(self, method, url, access_token, **kwargs):\n",
    "        \"\"\" Base class override. Pretty-prints outgoing requests and incoming responses. \"\"\"\n",
    "        print('\\x1b[36m{} {} {}\\x1b[0m'.format(method, url, pformat(kwargs)))\n",
    "        response = super(LoggingNetwork, self).request(\n",
    "            method, url, access_token, **kwargs\n",
    "        )\n",
    "        if response.ok:\n",
    "            print('\\x1b[32m{}\\x1b[0m'.format(response.content))\n",
    "        else:\n",
    "            print('\\x1b[31m{}\\n{}\\n{}\\x1b[0m'.format(\n",
    "                response.status_code,\n",
    "                response.headers,\n",
    "                pformat(response.content),\n",
    "            ))\n",
    "        return response"
   ]
  },
  {
   "cell_type": "code",
   "execution_count": null,
   "metadata": {},
   "outputs": [],
   "source": [
    "# Create OAuth2 object. It's already authenticated, thanks to the developer token.\n",
    "oauth2 = OAuth2(CLIENT_ID, CLIENT_SECRET, access_token=ACCESS_TOKEN)\n",
    "\n",
    "# Create the authenticated client\n",
    "client = Client(oauth2, LoggingNetwork())"
   ]
  },
  {
   "cell_type": "code",
   "execution_count": null,
   "metadata": {},
   "outputs": [],
   "source": [
    "ACCESS_TOKEN"
   ]
  },
  {
   "cell_type": "code",
   "execution_count": null,
   "metadata": {},
   "outputs": [],
   "source": [
    "from boxsdk import DevelopmentClient\n",
    "client = DevelopmentClient()"
   ]
  },
  {
   "cell_type": "code",
   "execution_count": null,
   "metadata": {},
   "outputs": [],
   "source": [
    "user = client.user().get();\n",
    "print('The current user ID is {0}'.format(user.id))"
   ]
  },
  {
   "cell_type": "code",
   "execution_count": null,
   "metadata": {},
   "outputs": [],
   "source": []
  },
  {
   "cell_type": "code",
   "execution_count": null,
   "metadata": {},
   "outputs": [],
   "source": [
    "#upload to URL directly, not working\n",
    "import requests\n",
    "with open('test_data_set_2.csv', 'rb') as f:\n",
    "    r = requests.post('https://ucsb.app.box.com/folder/98227395310', files={'test_data_set_2.csv': f})"
   ]
  }
 ],
 "metadata": {
  "kernelspec": {
   "display_name": "Python 3",
   "language": "python",
   "name": "python3"
  },
  "language_info": {
   "codemirror_mode": {
    "name": "ipython",
    "version": 3
   },
   "file_extension": ".py",
   "mimetype": "text/x-python",
   "name": "python",
   "nbconvert_exporter": "python",
   "pygments_lexer": "ipython3",
   "version": "3.7.4"
  }
 },
 "nbformat": 4,
 "nbformat_minor": 4
}
